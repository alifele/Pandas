{
 "cells": [
  {
   "cell_type": "markdown",
   "metadata": {},
   "source": [
    "you can easily do it by simply using the values key of pandas dataframes|"
   ]
  },
  {
   "cell_type": "code",
   "execution_count": 1,
   "metadata": {},
   "outputs": [],
   "source": [
    "import pandas as pd\n",
    "import numpy as np"
   ]
  },
  {
   "cell_type": "code",
   "execution_count": 3,
   "metadata": {},
   "outputs": [
    {
     "name": "stdout",
     "output_type": "stream",
     "text": [
      "\u001b[0m\u001b[01;32m'Converting Pandas to numpy.ipynb'\u001b[0m*   \u001b[01;32mREADME.md\u001b[0m*  \u001b[34;42m'sample data'\u001b[0m/\n",
      "/media/ali/Ali/Projects/Pandas/sample data\n"
     ]
    }
   ],
   "source": [
    "%ls\n",
    "%cd 'sample data/'"
   ]
  },
  {
   "cell_type": "code",
   "execution_count": 4,
   "metadata": {},
   "outputs": [
    {
     "name": "stdout",
     "output_type": "stream",
     "text": [
      "\u001b[0m\u001b[01;32mbody_acc_x_train.txt\u001b[0m*\r\n"
     ]
    }
   ],
   "source": [
    "%ls"
   ]
  },
  {
   "cell_type": "code",
   "execution_count": 5,
   "metadata": {},
   "outputs": [],
   "source": [
    "def file_loader(filepath):\n",
    "    dataframe = pd.read_csv(filepath, header=None, delim_whitespace=True)\n",
    "    return dataframe"
   ]
  },
  {
   "cell_type": "code",
   "execution_count": 7,
   "metadata": {},
   "outputs": [],
   "source": [
    "data = file_loader('body_acc_x_train.txt')"
   ]
  },
  {
   "cell_type": "code",
   "execution_count": 10,
   "metadata": {},
   "outputs": [
    {
     "data": {
      "text/plain": [
       "array([[ 1.808515e-04,  1.013856e-02,  9.275574e-03, ..., -1.147484e-03,\n",
       "        -2.222655e-04,  1.575500e-03],\n",
       "       [ 1.093752e-03,  4.550077e-03,  2.879173e-03, ..., -4.646144e-03,\n",
       "        -2.941333e-03, -1.598751e-03],\n",
       "       [ 3.531266e-03,  2.285063e-03, -4.197538e-04, ...,  1.245999e-03,\n",
       "         3.116783e-03,  2.177658e-03],\n",
       "       ...,\n",
       "       [-2.267175e-01, -1.778169e-01, -1.508691e-01, ..., -2.949353e-01,\n",
       "        -2.434030e-01, -2.152148e-01],\n",
       "       [-6.480597e-02, -7.993300e-02, -6.834966e-02, ..., -3.150159e-01,\n",
       "        -3.307374e-01, -2.723475e-01],\n",
       "       [-1.944707e-01, -1.738025e-01, -1.275446e-01, ..., -7.190685e-02,\n",
       "        -1.422088e-01, -1.709989e-01]])"
      ]
     },
     "execution_count": 10,
     "metadata": {},
     "output_type": "execute_result"
    }
   ],
   "source": [
    "data.values"
   ]
  },
  {
   "cell_type": "markdown",
   "metadata": {},
   "source": [
    "the data.values is now in numpy format"
   ]
  },
  {
   "cell_type": "code",
   "execution_count": null,
   "metadata": {},
   "outputs": [],
   "source": []
  }
 ],
 "metadata": {
  "kernelspec": {
   "display_name": "Python 3",
   "language": "python",
   "name": "python3"
  },
  "language_info": {
   "codemirror_mode": {
    "name": "ipython",
    "version": 3
   },
   "file_extension": ".py",
   "mimetype": "text/x-python",
   "name": "python",
   "nbconvert_exporter": "python",
   "pygments_lexer": "ipython3",
   "version": "3.7.3"
  }
 },
 "nbformat": 4,
 "nbformat_minor": 2
}
